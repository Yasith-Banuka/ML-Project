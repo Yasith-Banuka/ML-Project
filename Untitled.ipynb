{
 "cells": [
  {
   "cell_type": "code",
   "execution_count": null,
   "id": "f532a139",
   "metadata": {},
   "outputs": [],
   "source": [
    "import pandas as pd\n",
    "TrainingLabels = pd.read_csv('Training labels.csv')\n",
    "TrainingFeatures = pd.read_csv('Training features.csv')\n",
    "TestFeatures = pd.read_csv('Test features.csv')\n",
    "TrainingFeatures.head()"
   ]
  },
  {
   "cell_type": "code",
   "execution_count": null,
   "id": "76a50f93",
   "metadata": {},
   "outputs": [],
   "source": [
    "import pandas_profiling as pp\n",
    "pp.ProfileReport(pd.concat([TrainingFeatures, TrainingLabels], axis=1), title = 'Pandas Profiling report of \"Train\" set', html = {'style':{'full_width': True}})"
   ]
  },
  {
   "cell_type": "code",
   "execution_count": null,
   "id": "62fd8f26",
   "metadata": {},
   "outputs": [],
   "source": []
  },
  {
   "cell_type": "code",
   "execution_count": null,
   "id": "5d849333",
   "metadata": {},
   "outputs": [],
   "source": []
  },
  {
   "cell_type": "code",
   "execution_count": null,
   "id": "77ab1ec3",
   "metadata": {},
   "outputs": [],
   "source": []
  },
  {
   "cell_type": "code",
   "execution_count": null,
   "id": "3677f403",
   "metadata": {},
   "outputs": [],
   "source": []
  },
  {
   "cell_type": "code",
   "execution_count": null,
   "id": "fc5e5ed1",
   "metadata": {},
   "outputs": [],
   "source": []
  }
 ],
 "metadata": {
  "kernelspec": {
   "display_name": "Python 3",
   "language": "python",
   "name": "python3"
  }
 },
 "nbformat": 4,
 "nbformat_minor": 5
}
