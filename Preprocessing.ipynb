{
 "cells": [
  {
   "cell_type": "code",
   "execution_count": 2,
   "source": [
    "import pandas as pd\r\n",
    "TrainingLabels = pd.read_csv('Datasets/Training labels.csv', index_col='id')\r\n",
    "TrainingFeatures = pd.read_csv('Datasets/Training features.csv', index_col='id')\r\n",
    "TestFeatures = pd.read_csv('Datasets/Test features.csv', index_col='id')\r\n",
    "\r\n"
   ],
   "outputs": [],
   "metadata": {}
  },
  {
   "cell_type": "code",
   "execution_count": 3,
   "source": [
    "preprocess = pd.concat([TrainingFeatures,TestFeatures])"
   ],
   "outputs": [],
   "metadata": {}
  },
  {
   "cell_type": "markdown",
   "source": [
    "Dropping unnecessary columns"
   ],
   "metadata": {}
  },
  {
   "cell_type": "code",
   "execution_count": 4,
   "source": [
    "preprocess.drop(['wpt_name','num_private','region','recorded_by',\r\n",
    "'extraction_type_class','extraction_type','payment_type','water_quality','quantity_group','source_type',\r\n",
    "'source','waterpoint_type','date_recorded','management_group','scheme_name'],axis=1,inplace=True)\r\n",
    "preprocess.columns"
   ],
   "outputs": [
    {
     "output_type": "execute_result",
     "data": {
      "text/plain": [
       "Index(['amount_tsh', 'funder', 'gps_height', 'installer', 'longitude',\n",
       "       'latitude', 'basin', 'subvillage', 'region_code', 'district_code',\n",
       "       'lga', 'ward', 'population', 'public_meeting', 'scheme_management',\n",
       "       'permit', 'construction_year', 'extraction_type_group', 'management',\n",
       "       'payment', 'quality_group', 'quantity', 'source_class',\n",
       "       'waterpoint_type_group'],\n",
       "      dtype='object')"
      ]
     },
     "metadata": {},
     "execution_count": 4
    }
   ],
   "metadata": {}
  },
  {
   "cell_type": "markdown",
   "source": [
    "Cleaning Funder"
   ],
   "metadata": {}
  },
  {
   "cell_type": "code",
   "execution_count": 5,
   "source": [
    "import numpy as nan\r\n",
    "preprocess['funder'] = preprocess['funder'].str.lower()\r\n",
    "preprocess['funder'].fillna(preprocess.installer, inplace=True)\r\n",
    "preprocess['funder'].fillna('nan', inplace=True)\r\n",
    "preprocess['funder'].replace(to_replace=('0', '-', ''), value='nan', inplace=True)\r\n",
    "funder_reduction = ['kkkt','vision','foundat','tlc','wsd','norad','sema','wfp','ded','unicef','danida','hes','rws','dhv','isf']\r\n",
    "\r\n",
    "for category in funder_reduction:\r\n",
    "    subCategory = preprocess[preprocess['funder'].str.contains(category)]\r\n",
    "    unique = subCategory['funder'].unique()\r\n",
    "    preprocess['funder'].replace(to_replace=unique,value=category, inplace=True)\r\n",
    "\r\n",
    "multi = [\r\n",
    "[['hifab','amref','oxfa','wateraid','Wate Aid','Water Aid','adra','plan','Ces(gmbh)','Ces (gmbh)','shipo','dmdd','oikos'],'project'],\r\n",
    "[['mzee','priva','mwita','ltd','bank','kanis'],'private'],\r\n",
    "[['municipal council', 'distric','govern','ministry','supply','adb','rudep'],'govern'],\r\n",
    "[['rc','roman',' mission','cathoric','st ','churc','anglican','tcrs'],'church'],\r\n",
    "[['total land care','total landcare','totaland care','totoland','totoland care'],'totallandcare'],\r\n",
    "[['tassaf','tasaf'],'tasaf'],\r\n",
    "[['ngo ',' ngo'],'ngo'],\r\n",
    "[['rotary','club'],'club'],\r\n",
    "[['islam','muslim'],'muslim'],\r\n",
    "[['said ',' said'],'said'],\r\n",
    "[['british','japan','egypt','belgian','italy','iran','china','finland','irish','swedish','german','netherlan','european','kuwait','african','jaica','jica'],'foreign'],\r\n",
    "[['village','community','rural','halmashauri','lga'],'village'],\r\n",
    "[['lga','adb'],'lga & adb'],\r\n",
    "[['Fin Water','Fini Water','Finn Water','Finw','Finwater','Fiwater'],'fini']\r\n",
    "]\r\n",
    "for category in multi:\r\n",
    "    for name in category[0]:\r\n",
    "        subCategory = preprocess.loc[preprocess['funder'].str.contains(name)]\r\n",
    "        unique = subCategory['funder'].unique()\r\n",
    "        preprocess['funder'].replace(to_replace=unique,value=category[1], inplace=True)\r\n",
    "\r\n",
    "preprocess['funder'].replace(to_replace=('mission','missio','missi'),value='church', inplace=True)\r\n",
    "\r\n",
    "\r\n",
    "count = preprocess.groupby('funder')['funder'].count()\r\n",
    "other_list = count[count<100].index.tolist()\r\n",
    "preprocess['funder'].replace(to_replace=other_list, value='other', inplace=True)  \r\n",
    "\r\n",
    "with pd.option_context('display.max_rows', None, 'display.max_columns', None):\r\n",
    "    print(preprocess.groupby('funder')['funder'].count().sort_values(ascending=False))"
   ],
   "outputs": [
    {
     "output_type": "stream",
     "name": "stderr",
     "text": [
      "C:\\Users\\Yasith\\anaconda3\\lib\\site-packages\\pandas\\core\\strings\\accessor.py:101: UserWarning: This pattern has match groups. To actually get the groups, use str.extract.\n",
      "  return func(self, *args, **kwargs)\n"
     ]
    },
    {
     "output_type": "stream",
     "name": "stdout",
     "text": [
      "funder\n",
      "govern                     15431\n",
      "other                      10791\n",
      "nan                         5419\n",
      "danida                      3921\n",
      "project                     3661\n",
      "private                     3402\n",
      "foreign                     3163\n",
      "church                      3077\n",
      "hes                         2802\n",
      "kkkt                        1953\n",
      "rws                         1742\n",
      "vision                      1603\n",
      "village                     1430\n",
      "unicef                      1350\n",
      "tasaf                       1316\n",
      "dhv                         1146\n",
      "norad                       1078\n",
      "dwsp                        1012\n",
      "water                        739\n",
      "dwe                          605\n",
      "fini water                   474\n",
      "isf                          429\n",
      "wsd                          322\n",
      "ces(gmbh)                    316\n",
      "finw                         281\n",
      "dh                           261\n",
      "ded                          246\n",
      "kiliwater                    243\n",
      "magadini-makiwaru water      226\n",
      "w.b                          223\n",
      "go                           214\n",
      "fw                           214\n",
      "ces (gmbh)                   210\n",
      "wvt                          206\n",
      "sema                         204\n",
      "nethalan                     189\n",
      "lvia                         180\n",
      "concern world wide           178\n",
      "unhcr                        173\n",
      "no                           163\n",
      "wananchi                     162\n",
      "ki                           161\n",
      "wua                          154\n",
      "tardo                        154\n",
      "he                           153\n",
      "ir                           152\n",
      "unice                        148\n",
      "snv                          147\n",
      "is                           147\n",
      "co                           146\n",
      "concern                      139\n",
      "bsf                          136\n",
      "lamp                         134\n",
      "muwsa                        132\n",
      "dfid                         129\n",
      "ru                           126\n",
      "muslim                       120\n",
      "foundat                      120\n",
      "tanza                        118\n",
      "hsw                          118\n",
      "twe                          115\n",
      "wfp                          111\n",
      "aict                         111\n",
      "idc                          110\n",
      "mdrdp                        107\n",
      "undp                         103\n",
      "h                            102\n",
      "gtz                          102\n",
      "Name: funder, dtype: int64\n"
     ]
    }
   ],
   "metadata": {}
  },
  {
   "cell_type": "markdown",
   "source": [
    "Creating Management_cross"
   ],
   "metadata": {}
  },
  {
   "cell_type": "code",
   "execution_count": 6,
   "source": [
    "preprocess['management_cross'] = preprocess['scheme_management'] + preprocess['management']\r\n",
    "count = preprocess.groupby('management_cross')['management_cross'].count()\r\n",
    "other_list = count[count<100].index.tolist()\r\n",
    "preprocess['management_cross'].replace(to_replace=other_list, value='other', inplace=True)  \r\n",
    "preprocess.drop(['scheme_management','management'],axis=1,inplace=True)"
   ],
   "outputs": [],
   "metadata": {}
  },
  {
   "cell_type": "markdown",
   "source": [
    "Other preprocessing and feature engineering"
   ],
   "metadata": {}
  },
  {
   "cell_type": "code",
   "execution_count": 7,
   "source": [
    "import numpy as np\r\n",
    "\r\n",
    "preprocess['gps_height'] = preprocess['gps_height'].abs()\r\n",
    "preprocess['gps_height'].replace(to_replace=0, value=np.nan, inplace=True)\r\n",
    "\r\n",
    "preprocess['longitude'].replace(to_replace=0, value=np.nan, inplace=True)\r\n",
    "\r\n",
    "preprocess['construction_year'].replace(to_replace=0, value=np.nan, inplace=True)\r\n",
    "preprocess['age'] = 2013 - preprocess.construction_year\r\n",
    "preprocess.drop('construction_year', axis = 1, inplace = True)\r\n",
    "\r\n",
    "preprocess.drop('installer', axis = 1, inplace = True)\r\n",
    "\r\n",
    "bool_mapper = {\"False\":0, \"True\":1}\r\n",
    "preprocess[\"permit\"] = preprocess[\"permit\"].replace(bool_mapper)\r\n",
    "preprocess[\"public_meeting\"] = preprocess[\"public_meeting\"].replace(bool_mapper)\r\n"
   ],
   "outputs": [],
   "metadata": {}
  },
  {
   "cell_type": "code",
   "execution_count": 8,
   "source": [
    "preprocess.isna().sum()"
   ],
   "outputs": [
    {
     "output_type": "execute_result",
     "data": {
      "text/plain": [
       "amount_tsh                   0\n",
       "funder                       0\n",
       "gps_height               25649\n",
       "longitude                 2269\n",
       "latitude                     0\n",
       "basin                        0\n",
       "subvillage                 470\n",
       "region_code                  0\n",
       "district_code                0\n",
       "lga                          0\n",
       "ward                         0\n",
       "population                   0\n",
       "public_meeting            4155\n",
       "permit                    3793\n",
       "extraction_type_group        0\n",
       "payment                      0\n",
       "quality_group                0\n",
       "quantity                     0\n",
       "source_class                 0\n",
       "waterpoint_type_group        0\n",
       "management_cross          4846\n",
       "age                      25969\n",
       "dtype: int64"
      ]
     },
     "metadata": {},
     "execution_count": 8
    }
   ],
   "metadata": {}
  },
  {
   "cell_type": "code",
   "execution_count": 9,
   "source": [
    "preprocess[\"permit\"] = preprocess[\"permit\"].astype('float')\r\n",
    "preprocess[\"public_meeting\"] = preprocess[\"public_meeting\"].astype('float')"
   ],
   "outputs": [],
   "metadata": {}
  },
  {
   "cell_type": "markdown",
   "source": [
    "Filling missing values"
   ],
   "metadata": {}
  },
  {
   "cell_type": "code",
   "execution_count": 10,
   "source": [
    "for fill in ['age','longitude','gps_height']:\r\n",
    "    preprocess[fill].fillna(preprocess[fill].mean(), inplace=True)\r\n",
    "\r\n",
    "for fill in ['public_meeting','permit']:\r\n",
    "    preprocess[fill].fillna(preprocess[fill].mode()[0], inplace=True)\r\n",
    "\r\n",
    "for fill in ['management_cross','subvillage']:\r\n",
    "    preprocess[fill].fillna('nan',inplace=True)"
   ],
   "outputs": [],
   "metadata": {}
  },
  {
   "cell_type": "code",
   "execution_count": 11,
   "source": [
    "preprocess[\"permit\"] = preprocess[\"permit\"].astype('uint8')\r\n",
    "preprocess[\"public_meeting\"] = preprocess[\"public_meeting\"].astype('uint8')"
   ],
   "outputs": [],
   "metadata": {}
  },
  {
   "cell_type": "code",
   "execution_count": 12,
   "source": [
    "object_columns = preprocess.select_dtypes(include=['object']).columns\r\n",
    "for object_col in object_columns:\r\n",
    "    preprocess[object_col] = preprocess[object_col].astype('category')"
   ],
   "outputs": [],
   "metadata": {}
  },
  {
   "cell_type": "code",
   "execution_count": 13,
   "source": [
    "preprocess.isna().sum()"
   ],
   "outputs": [
    {
     "output_type": "execute_result",
     "data": {
      "text/plain": [
       "amount_tsh               0\n",
       "funder                   0\n",
       "gps_height               0\n",
       "longitude                0\n",
       "latitude                 0\n",
       "basin                    0\n",
       "subvillage               0\n",
       "region_code              0\n",
       "district_code            0\n",
       "lga                      0\n",
       "ward                     0\n",
       "population               0\n",
       "public_meeting           0\n",
       "permit                   0\n",
       "extraction_type_group    0\n",
       "payment                  0\n",
       "quality_group            0\n",
       "quantity                 0\n",
       "source_class             0\n",
       "waterpoint_type_group    0\n",
       "management_cross         0\n",
       "age                      0\n",
       "dtype: int64"
      ]
     },
     "metadata": {},
     "execution_count": 13
    }
   ],
   "metadata": {}
  },
  {
   "cell_type": "code",
   "execution_count": 14,
   "source": [
    "TrainingFeatures = preprocess.iloc[:59400,:]\r\n",
    "TestFeatures = preprocess.iloc[59400:,:]\r\n",
    "\r\n",
    "TrainingFeatures.to_csv('Cleaned Datasets/training_cleaned.csv', index=True)\r\n",
    "TestFeatures.to_csv('Cleaned Datasets/test_cleaned.csv', index=True)"
   ],
   "outputs": [],
   "metadata": {}
  }
 ],
 "metadata": {
  "orig_nbformat": 4,
  "language_info": {
   "name": "python",
   "version": "3.8.8",
   "mimetype": "text/x-python",
   "codemirror_mode": {
    "name": "ipython",
    "version": 3
   },
   "pygments_lexer": "ipython3",
   "nbconvert_exporter": "python",
   "file_extension": ".py"
  },
  "kernelspec": {
   "name": "python3",
   "display_name": "Python 3.8.8 64-bit ('base': conda)"
  },
  "interpreter": {
   "hash": "627a90b54e6da1f209648a2c9c5f7e12610f05c4265361c3c1b7d26135e86100"
  }
 },
 "nbformat": 4,
 "nbformat_minor": 2
}